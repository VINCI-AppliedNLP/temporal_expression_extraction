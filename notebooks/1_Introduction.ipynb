{
 "cells": [
  {
   "cell_type": "code",
   "execution_count": 1,
   "id": "b42734f0",
   "metadata": {},
   "outputs": [
    {
     "name": "stderr",
     "output_type": "stream",
     "text": [
      "D:\\Anaconda\\envs\\vinci_nlp_202212\\lib\\site-packages\\tqdm\\auto.py:22: TqdmWarning: IProgress not found. Please update jupyter and ipywidgets. See https://ipywidgets.readthedocs.io/en/stable/user_install.html\n",
      "  from .autonotebook import tqdm as notebook_tqdm\n"
     ]
    }
   ],
   "source": [
    "import medspacy\n",
    "import spacy\n",
    "from medspacy.ner import TargetRule\n",
    "from medspacy.ner import ConceptTagger\n",
    "from spacy.tokens import Span\n",
    "from medspacy.visualization import visualize_dep, visualize_ent"
   ]
  },
  {
   "cell_type": "code",
   "execution_count": 2,
   "id": "8baa046c",
   "metadata": {},
   "outputs": [],
   "source": [
    "import sys\n",
    "import os\n",
    "sys.path.append('../src/')\n",
    "import temporal_token_rules\n",
    "import temporal_NER_rules"
   ]
  },
  {
   "cell_type": "markdown",
   "id": "450a70ae",
   "metadata": {},
   "source": [
    "#### 1. token tagger"
   ]
  },
  {
   "cell_type": "code",
   "execution_count": 3,
   "id": "e9de48a7",
   "metadata": {},
   "outputs": [
    {
     "data": {
      "text/plain": [
       "['medspacy_pyrush', 'medspacy_concept_tagger']"
      ]
     },
     "execution_count": 3,
     "metadata": {},
     "output_type": "execute_result"
    }
   ],
   "source": [
    "nlp = medspacy.load(medspacy_enable=[\"medspacy_pyrush\"]) #sentenciser\n",
    "concept_matcher = nlp.add_pipe(\"medspacy_concept_tagger\")\n",
    "nlp.pipe_names"
   ]
  },
  {
   "cell_type": "code",
   "execution_count": 4,
   "id": "e6ee902f",
   "metadata": {},
   "outputs": [],
   "source": [
    "# adding rules for tagging tokens\n",
    "tagger_rules = temporal_token_rules.get_token_rules()\n",
    "concept_matcher.add(tagger_rules) "
   ]
  },
  {
   "cell_type": "code",
   "execution_count": 5,
   "id": "39c6c5b5",
   "metadata": {},
   "outputs": [
    {
     "name": "stdout",
     "output_type": "stream",
     "text": [
      "for \n",
      "the DETERMINER\n",
      "past PAST\n",
      "2 \n",
      "weeks WEEK\n"
     ]
    }
   ],
   "source": [
    "# test the token tagger\n",
    "doc_token_tagger = nlp(\"for the past 2 weeks\")\n",
    "for token in doc_token_tagger:\n",
    "    print(token, token._.concept_tag)"
   ]
  },
  {
   "cell_type": "markdown",
   "id": "ba85fa6a",
   "metadata": {},
   "source": [
    "#### 2. temporal name entity extraction"
   ]
  },
  {
   "cell_type": "code",
   "execution_count": 6,
   "id": "7dc324ad",
   "metadata": {},
   "outputs": [
    {
     "data": {
      "text/plain": [
       "['medspacy_pyrush', 'medspacy_concept_tagger', 'medspacy_target_matcher']"
      ]
     },
     "execution_count": 6,
     "metadata": {},
     "output_type": "execute_result"
    }
   ],
   "source": [
    "if \"medspacy_target_matcher\" in nlp.pipe_names:\n",
    "    nlp.remove_pipe(\"medspacy_target_matcher\")\n",
    "target_matcher = nlp.add_pipe(\"medspacy_target_matcher\")\n",
    "nlp.pipe_names"
   ]
  },
  {
   "cell_type": "code",
   "execution_count": 7,
   "id": "0fa24ab1",
   "metadata": {},
   "outputs": [],
   "source": [
    "ner_rules = temporal_NER_rules.get_NER_rules()\n",
    "target_matcher.add(ner_rules)"
   ]
  },
  {
   "cell_type": "markdown",
   "id": "70bfc9e1",
   "metadata": {},
   "source": [
    "#### 3. examples"
   ]
  },
  {
   "cell_type": "code",
   "execution_count": 8,
   "id": "00c06695",
   "metadata": {},
   "outputs": [],
   "source": [
    "test_string = '''\n",
    "He was admitted to the hospital on AUG 4,2016 @23:49. \n",
    "He stayed there for 7 days. \n",
    "He was discharged sometime this week.\n",
    "He will take the medicine daily.\n",
    "He has 2 episodes of homelessness.\n",
    "He will take the medicine four times every day.\n",
    "He used vape pen in the past 2 years.\n",
    "'''"
   ]
  },
  {
   "cell_type": "code",
   "execution_count": 9,
   "id": "3a000d32",
   "metadata": {},
   "outputs": [],
   "source": [
    "doc = nlp(test_string)"
   ]
  },
  {
   "cell_type": "code",
   "execution_count": 10,
   "id": "e2261869",
   "metadata": {},
   "outputs": [
    {
     "data": {
      "text/html": [
       "<span class=\"tex2jax_ignore\"><div class=\"entities\" style=\"line-height: 2.5; direction: ltr\"></br>He was admitted to the hospital on \n",
       "<mark class=\"entity\" style=\"background: #2ca02c; padding: 0.45em 0.6em; margin: 0 0.25em; line-height: 1; border-radius: 0.35em;\">\n",
       "    AUG 4,2016\n",
       "    <span style=\"font-size: 0.8em; font-weight: bold; line-height: 1; border-radius: 0.35em; vertical-align: middle; margin-left: 0.5rem\">DATE</span>\n",
       "</mark>\n",
       " \n",
       "<mark class=\"entity\" style=\"background: #1f77b4; padding: 0.45em 0.6em; margin: 0 0.25em; line-height: 1; border-radius: 0.35em;\">\n",
       "    @23:49\n",
       "    <span style=\"font-size: 0.8em; font-weight: bold; line-height: 1; border-radius: 0.35em; vertical-align: middle; margin-left: 0.5rem\">TIME</span>\n",
       "</mark>\n",
       ". </br>He stayed there \n",
       "<mark class=\"entity\" style=\"background: #9467bd; padding: 0.45em 0.6em; margin: 0 0.25em; line-height: 1; border-radius: 0.35em;\">\n",
       "    for 7 days.\n",
       "    <span style=\"font-size: 0.8em; font-weight: bold; line-height: 1; border-radius: 0.35em; vertical-align: middle; margin-left: 0.5rem\">DURATION</span>\n",
       "</mark>\n",
       " </br>He was \n",
       "<mark class=\"entity\" style=\"background: #2ca02c; padding: 0.45em 0.6em; margin: 0 0.25em; line-height: 1; border-radius: 0.35em;\">\n",
       "    discharged sometime this week\n",
       "    <span style=\"font-size: 0.8em; font-weight: bold; line-height: 1; border-radius: 0.35em; vertical-align: middle; margin-left: 0.5rem\">DATE</span>\n",
       "</mark>\n",
       ".</br>He will take the medicine \n",
       "<mark class=\"entity\" style=\"background: #ff7f0e; padding: 0.45em 0.6em; margin: 0 0.25em; line-height: 1; border-radius: 0.35em;\">\n",
       "    daily\n",
       "    <span style=\"font-size: 0.8em; font-weight: bold; line-height: 1; border-radius: 0.35em; vertical-align: middle; margin-left: 0.5rem\">FREQUENCY</span>\n",
       "</mark>\n",
       ".</br>He has \n",
       "<mark class=\"entity\" style=\"background: #d62728; padding: 0.45em 0.6em; margin: 0 0.25em; line-height: 1; border-radius: 0.35em;\">\n",
       "    2 episodes of homelessness\n",
       "    <span style=\"font-size: 0.8em; font-weight: bold; line-height: 1; border-radius: 0.35em; vertical-align: middle; margin-left: 0.5rem\">QUANTIFIER</span>\n",
       "</mark>\n",
       ".</br>He will take the medicine \n",
       "<mark class=\"entity\" style=\"background: #ff7f0e; padding: 0.45em 0.6em; margin: 0 0.25em; line-height: 1; border-radius: 0.35em;\">\n",
       "    four times every day\n",
       "    <span style=\"font-size: 0.8em; font-weight: bold; line-height: 1; border-radius: 0.35em; vertical-align: middle; margin-left: 0.5rem\">FREQUENCY</span>\n",
       "</mark>\n",
       ".</br>He used vape pen \n",
       "<mark class=\"entity\" style=\"background: #9467bd; padding: 0.45em 0.6em; margin: 0 0.25em; line-height: 1; border-radius: 0.35em;\">\n",
       "    in the past 2 years\n",
       "    <span style=\"font-size: 0.8em; font-weight: bold; line-height: 1; border-radius: 0.35em; vertical-align: middle; margin-left: 0.5rem\">DURATION</span>\n",
       "</mark>\n",
       ".</br></div></span>"
      ],
      "text/plain": [
       "<IPython.core.display.HTML object>"
      ]
     },
     "metadata": {},
     "output_type": "display_data"
    }
   ],
   "source": [
    "visualize_ent(doc)"
   ]
  },
  {
   "cell_type": "markdown",
   "id": "cb1a2bf3",
   "metadata": {},
   "source": [
    "#### 4. check the rules for the entities"
   ]
  },
  {
   "cell_type": "code",
   "execution_count": 11,
   "id": "9c7ca7d1",
   "metadata": {},
   "outputs": [
    {
     "name": "stdout",
     "output_type": "stream",
     "text": [
      "ENTITY and LABEL AUG 4,2016 DATE TargetRule(literal=\"calendar date\", category=\"DATE\", pattern=[{'_': {'concept_tag': 'MONTH'}, 'OP': '+'}, {'IS_PUNCT': True, 'OP': '*'}, {'IS_SPACE': True, 'OP': '*'}, {'TEXT': {'REGEX': '^(?<![0-9])([0-2]?\\\\d|30|31)\\\\W(([12]\\\\d{3})|(\\\\d{2}))$'}, 'OP': '+'}], attributes=None, on_match=None)\n",
      "ENTITY and LABEL @23:49 TIME TargetRule(literal=\"time\", category=\"TIME\", pattern=[{'TEXT': {'REGEX': '^\\\\W([0-1]?[0-9]|2[0-3]):[0-5][0-9]$'}, 'OP': '+'}, {'IS_SPACE': True, 'OP': '*'}, {'_': {'concept_tag': 'TIME'}, 'OP': '*'}], attributes=None, on_match=None)\n",
      "ENTITY and LABEL for 7 days. DURATION TargetRule(literal=\"duration\", category=\"DURATION\", pattern=[{'LOWER': {'IN': ['for', 'about', 'in', 'during', 'between', 'nearly', 'almost']}, 'OP': '+'}, {'TEXT': {'REGEX': '^[0-9]|[0-9][0-9]$'}, 'OP': '+'}, {'_': {'concept_tag': 'DAY'}, 'OP': '+'}, {'_': {'concept_tag': 'AGO'}, 'OP': '!'}], attributes=None, on_match=None)\n",
      "ENTITY and LABEL discharged sometime this week DATE TargetRule(literal=\"calendar date\", category=\"DATE\", pattern=[{'LOWER': {'IN': ['for', 'about', 'in', 'during', 'between']}, 'OP': '!'}, {'LOWER': {'IN': ['sometime', 'later', 'earlier']}, 'OP': '*'}, {'LOWER': 'the', 'OP': '*'}, {'LOWER': {'IN': ['this', 'the', 'next', 'last', 'past', 'previous', 'coming', 'following']}, 'OP': '+'}, {'TEXT': {'REGEX': '^[0-9]|[0-9][0-9]$'}, 'OP': '*'}, {'_': {'concept_tag': 'WEEK'}, 'OP': '+'}], attributes=None, on_match=None)\n",
      "ENTITY and LABEL daily FREQUENCY TargetRule(literal=\"frequency\", category=\"FREQUENCY\", pattern=[{'_': {'concept_tag': 'FREQUENCY'}, 'OP': '+'}], attributes=None, on_match=None)\n",
      "ENTITY and LABEL 2 episodes of homelessness QUANTIFIER TargetRule(literal=\"quantifier\", category=\"QUANTIFIER\", pattern=[{'TEXT': {'REGEX': '^[0-9]|[0-9][0-9]$'}, 'OP': '+'}, {'_': {'concept_tag': 'FREQUENCY_UNIT'}, 'OP': '+'}, {'LOWER': 'of', 'OP': '+'}, {'_': {'concept_tag': 'DETERMINER'}, 'OP': '!'}], attributes=None, on_match=None)\n",
      "ENTITY and LABEL four times every day FREQUENCY TargetRule(literal=\"frequency\", category=\"FREQUENCY\", pattern=[{'_': {'concept_tag': 'NUMBER'}, 'OP': '+'}, {'_': {'concept_tag': 'FREQUENCY_UNIT'}, 'OP': '+'}, {'_': {'concept_tag': 'DETERMINER'}, 'OP': '+'}, {'_': {'concept_tag': 'DAY'}, 'OP': '+'}], attributes=None, on_match=None)\n",
      "ENTITY and LABEL in the past 2 years DURATION TargetRule(literal=\"duration\", category=\"DURATION\", pattern=[{'LOWER': {'IN': ['for', 'about', 'in', 'during', 'between', 'nearly', 'almost']}, 'OP': '+'}, {'LOWER': {'IN': ['sometime', 'later', 'earlier']}, 'OP': '*'}, {'LOWER': 'the', 'OP': '*'}, {'LOWER': {'IN': ['this', 'the', 'next', 'last', 'past', 'previous', 'coming', 'following']}, 'OP': '+'}, {'LOWER': 'of', 'OP': '*'}, {'TEXT': {'REGEX': '^[0-9]|[0-9][0-9]$'}, 'OP': '*'}, {'_': {'concept_tag': 'YEAR'}, 'OP': '+'}], attributes=None, on_match=None)\n"
     ]
    }
   ],
   "source": [
    "for ent in doc.ents:\n",
    "    print('ENTITY and LABEL',ent, ent.label_, ent._.target_rule)"
   ]
  },
  {
   "cell_type": "code",
   "execution_count": null,
   "id": "cf02d233",
   "metadata": {},
   "outputs": [],
   "source": []
  }
 ],
 "metadata": {
  "kernelspec": {
   "display_name": "Python 3 (ipykernel)",
   "language": "python",
   "name": "python3"
  },
  "language_info": {
   "codemirror_mode": {
    "name": "ipython",
    "version": 3
   },
   "file_extension": ".py",
   "mimetype": "text/x-python",
   "name": "python",
   "nbconvert_exporter": "python",
   "pygments_lexer": "ipython3",
   "version": "3.8.15"
  }
 },
 "nbformat": 4,
 "nbformat_minor": 5
}
